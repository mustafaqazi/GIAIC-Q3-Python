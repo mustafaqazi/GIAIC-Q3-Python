{
  "nbformat": 4,
  "nbformat_minor": 0,
  "metadata": {
    "colab": {
      "provenance": [],
      "authorship_tag": "ABX9TyNdbcuT73VZjzE8RJvzQA5n",
      "include_colab_link": true
    },
    "kernelspec": {
      "name": "python3",
      "display_name": "Python 3"
    },
    "language_info": {
      "name": "python"
    }
  },
  "cells": [
    {
      "cell_type": "markdown",
      "metadata": {
        "id": "view-in-github",
        "colab_type": "text"
      },
      "source": [
        "<a href=\"https://colab.research.google.com/github/mustafaqazi/GIAIC-Q3-Python/blob/main/streamlit_library_app.ipynb\" target=\"_parent\"><img src=\"https://colab.research.google.com/assets/colab-badge.svg\" alt=\"Open In Colab\"/></a>"
      ]
    },
    {
      "cell_type": "code",
      "source": [
        "# Install necessary packages\n",
        "!pip install -q streamlit pyngrok\n"
      ],
      "metadata": {
        "id": "MYAAAYm-1VKx"
      },
      "execution_count": 10,
      "outputs": []
    },
    {
      "cell_type": "code",
      "execution_count": 11,
      "metadata": {
        "colab": {
          "base_uri": "https://localhost:8080/"
        },
        "id": "QygywsnU0M8x",
        "outputId": "2a913108-c6e7-4ef8-9896-d438f5e08bd0"
      },
      "outputs": [
        {
          "output_type": "stream",
          "name": "stdout",
          "text": [
            "Overwriting streamlit_library_app.py\n"
          ]
        }
      ],
      "source": [
        "# Create the Streamlit app file\n",
        "%%writefile streamlit_library_app.py\n",
        "import streamlit as st\n",
        "import json\n",
        "import os\n",
        "\n",
        "LIBRARY_FILE = \"streamlit_library.json\"\n",
        "\n",
        "def load_library():\n",
        "    if os.path.exists(LIBRARY_FILE):\n",
        "        with open(LIBRARY_FILE, \"r\") as f:\n",
        "            return json.load(f)\n",
        "    return []\n",
        "\n",
        "def save_library(library):\n",
        "    with open(LIBRARY_FILE, \"w\") as f:\n",
        "        json.dump(library, f, indent=4)\n",
        "\n",
        "def add_book(book, library):\n",
        "    library.append(book)\n",
        "    save_library(library)\n",
        "    st.success(f\"✅ '{book['title']}' added to your library.\")\n",
        "\n",
        "def remove_book(title, library):\n",
        "    for book in library:\n",
        "        if book[\"title\"].lower() == title.lower():\n",
        "            library.remove(book)\n",
        "            save_library(library)\n",
        "            st.success(f\"🗑️ '{title}' removed from your library.\")\n",
        "            return\n",
        "    st.warning(\"⚠️ Book not found.\")\n",
        "\n",
        "def search_books(query, library):\n",
        "    return [\n",
        "        book for book in library\n",
        "        if query.lower() in book[\"title\"].lower() or query.lower() in book[\"author\"].lower()\n",
        "    ]\n",
        "\n",
        "def display_book(book):\n",
        "    status = \"✅ Read\" if book[\"read\"] else \"❌ Not Read\"\n",
        "    st.markdown(f\"**{book['title']}** by *{book['author']}* ({book['year']}) - {book['genre']} - {status}\")\n",
        "\n",
        "st.set_page_config(page_title=\"📚 Personal Library\", layout=\"wide\")\n",
        "st.title(\"📚 Personal Library Manager\")\n",
        "\n",
        "library = load_library()\n",
        "\n",
        "tab1, tab2, tab3, tab4, tab5 = st.tabs([\"➕ Add Book\", \"📚 View All\", \"🔍 Search\", \"🗑️ Remove\", \"📊 Stats\"])\n",
        "\n",
        "with tab1:\n",
        "    st.subheader(\"➕ Add a Book\")\n",
        "    title = st.text_input(\"Title\")\n",
        "    author = st.text_input(\"Author\")\n",
        "    year = st.text_input(\"Publication Year\")\n",
        "    genre = st.text_input(\"Genre\")\n",
        "    read = st.checkbox(\"Mark as Read\")\n",
        "\n",
        "    if st.button(\"Add Book\"):\n",
        "        if title and author and year:\n",
        "            new_book = {\"title\": title, \"author\": author, \"year\": year, \"genre\": genre, \"read\": read}\n",
        "            add_book(new_book, library)\n",
        "        else:\n",
        "            st.warning(\"Please fill in at least Title, Author, and Year.\")\n",
        "\n",
        "with tab2:\n",
        "    st.subheader(\"📚 Your Library\")\n",
        "    if library:\n",
        "        for book in library:\n",
        "            display_book(book)\n",
        "            st.markdown(\"---\")\n",
        "    else:\n",
        "        st.info(\"No books in your library yet.\")\n",
        "\n",
        "with tab3:\n",
        "    st.subheader(\"🔍 Search Library\")\n",
        "    query = st.text_input(\"Enter title or author\")\n",
        "    if query:\n",
        "        results = search_books(query, library)\n",
        "        if results:\n",
        "            for book in results:\n",
        "                display_book(book)\n",
        "                st.markdown(\"---\")\n",
        "        else:\n",
        "            st.warning(\"No matching books found.\")\n",
        "\n",
        "with tab4:\n",
        "    st.subheader(\"🗑️ Remove a Book\")\n",
        "    titles = [book[\"title\"] for book in library]\n",
        "    book_to_remove = st.selectbox(\"Select book to remove\", options=[\"\"] + titles)\n",
        "    if st.button(\"Remove Book\"):\n",
        "        if book_to_remove:\n",
        "            remove_book(book_to_remove, library)\n",
        "\n",
        "with tab5:\n",
        "    st.subheader(\"📊 Library Statistics\")\n",
        "    total = len(library)\n",
        "    read_count = sum(1 for book in library if book[\"read\"])\n",
        "    unread_count = total - read_count\n",
        "    st.metric(\"Total Books\", total)\n",
        "    st.metric(\"Books Read\", read_count)\n",
        "    st.metric(\"Books Unread\", unread_count)\n"
      ]
    },
    {
      "cell_type": "code",
      "source": [
        "from pyngrok import ngrok\n",
        "import time\n",
        "import threading\n",
        "\n",
        "# Run the Streamlit app using ngrok\n",
        "from pyngrok import ngrok\n",
        "ngrok.set_auth_token(\"2uAR9ADeEzrfxiM3G6dJL1rlppw_68kkWNC2pvj46pVYbJHAy\")\n",
        "\n",
        "# Run Streamlit in a thread\n",
        "def run_streamlit():\n",
        "    !streamlit run streamlit_library_app.py &\n",
        "\n",
        "threading.Thread(target=run_streamlit).start()\n",
        "time.sleep(3)\n",
        "\n",
        "# Open ngrok tunnel\n",
        "public_url = ngrok.connect(addr=\"8501\")\n",
        "print(\"🔗 Streamlit Web App URL:\", public_url)\n"
      ],
      "metadata": {
        "colab": {
          "base_uri": "https://localhost:8080/"
        },
        "id": "Q0YYnita0glT",
        "outputId": "149de5f6-d620-4fc6-cbad-30c1070858fa"
      },
      "execution_count": 13,
      "outputs": [
        {
          "output_type": "stream",
          "name": "stdout",
          "text": [
            "\n",
            "Collecting usage statistics. To deactivate, set browser.gatherUsageStats to false.\n",
            "\u001b[0m\n",
            "\u001b[0m\n",
            "\u001b[34m\u001b[1m  You can now view your Streamlit app in your browser.\u001b[0m\n",
            "\u001b[0m\n",
            "\u001b[34m  Local URL: \u001b[0m\u001b[1mhttp://localhost:8503\u001b[0m\n",
            "\u001b[34m  Network URL: \u001b[0m\u001b[1mhttp://172.28.0.2:8503\u001b[0m\n",
            "\u001b[34m  External URL: \u001b[0m\u001b[1mhttp://35.233.164.80:8503\u001b[0m\n",
            "\u001b[0m\n",
            "🔗 Streamlit Web App URL: NgrokTunnel: \"https://e79d-35-233-164-80.ngrok-free.app\" -> \"http://localhost:8501\"\n"
          ]
        }
      ]
    }
  ]
}