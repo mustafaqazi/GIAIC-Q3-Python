{
  "nbformat": 4,
  "nbformat_minor": 0,
  "metadata": {
    "colab": {
      "provenance": []
    },
    "kernelspec": {
      "name": "python3",
      "display_name": "Python 3"
    },
    "language_info": {
      "name": "python"
    }
  },
  "cells": [
    {
      "cell_type": "code",
      "execution_count": null,
      "metadata": {
        "id": "yy6mUIiDQI0E"
      },
      "outputs": [],
      "source": [
        "class Counter:\n",
        "    # Class variable to store count of instances\n",
        "    count = 0\n",
        "\n",
        "    def __init__(self):\n",
        "        # Increment the count when a new object is created\n",
        "        Counter.count += 1\n",
        "\n",
        "    @classmethod\n",
        "    def get_count(cls):\n",
        "        # Class method to return the number of created objects\n",
        "        return cls.count\n",
        "\n",
        "\n",
        "# Example usage\n",
        "a = Counter()\n",
        "b = Counter()\n",
        "c = Counter()\n",
        "\n",
        "print(\"Number of Counter objects created:\", Counter.get_count())  # Output: 3\n"
      ]
    }
  ]
}