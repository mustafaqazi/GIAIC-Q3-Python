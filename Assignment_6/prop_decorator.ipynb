{
  "nbformat": 4,
  "nbformat_minor": 0,
  "metadata": {
    "colab": {
      "provenance": []
    },
    "kernelspec": {
      "name": "python3",
      "display_name": "Python 3"
    },
    "language_info": {
      "name": "python"
    }
  },
  "cells": [
    {
      "cell_type": "code",
      "execution_count": 1,
      "metadata": {
        "colab": {
          "base_uri": "https://localhost:8080/"
        },
        "id": "i5WPZj76pHtj",
        "outputId": "68a60f46-bf9e-4bf5-e53e-ed2ea6f563c9"
      },
      "outputs": [
        {
          "output_type": "stream",
          "name": "stdout",
          "text": [
            "100\n",
            "150\n",
            "Deleting price...\n"
          ]
        }
      ],
      "source": [
        "class Product:\n",
        "    def __init__(self, price):\n",
        "        self._price = price  # private attribute\n",
        "\n",
        "    @property\n",
        "    def price(self):\n",
        "        \"\"\"Get the price of the product.\"\"\"\n",
        "        return self._price\n",
        "\n",
        "    @price.setter\n",
        "    def price(self, value):\n",
        "        \"\"\"Set a new price for the product.\"\"\"\n",
        "        if value < 0:\n",
        "            raise ValueError(\"Price cannot be negative.\")\n",
        "        self._price = value\n",
        "\n",
        "    @price.deleter\n",
        "    def price(self):\n",
        "        \"\"\"Delete the price of the product.\"\"\"\n",
        "        print(\"Deleting price...\")\n",
        "        del self._price\n",
        "\n",
        "\n",
        "# Example usage:\n",
        "p = Product(100)\n",
        "print(p.price)     # Output: 100\n",
        "\n",
        "p.price = 150      # Updates the price\n",
        "print(p.price)     # Output: 150\n",
        "\n",
        "del p.price        # Deletes the price\n"
      ]
    }
  ]
}