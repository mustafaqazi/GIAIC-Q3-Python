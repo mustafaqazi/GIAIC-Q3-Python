{
  "nbformat": 4,
  "nbformat_minor": 0,
  "metadata": {
    "colab": {
      "provenance": []
    },
    "kernelspec": {
      "name": "python3",
      "display_name": "Python 3"
    },
    "language_info": {
      "name": "python"
    }
  },
  "cells": [
    {
      "cell_type": "code",
      "execution_count": null,
      "metadata": {
        "id": "zYOm8AHrkch1"
      },
      "outputs": [],
      "source": [
        "class TemperatureConverter:\n",
        "    @staticmethod\n",
        "    def celsius_to_fahrenheit(c):\n",
        "        return (c * 9/5) + 32\n",
        "\n",
        "\n",
        "# Example usage\n",
        "celsius = 25\n",
        "fahrenheit = TemperatureConverter.celsius_to_fahrenheit(celsius)\n",
        "print(f\"{celsius}°C is equal to {fahrenhe\n"
      ]
    }
  ]
}