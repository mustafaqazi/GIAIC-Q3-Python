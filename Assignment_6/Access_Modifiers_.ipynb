{
  "nbformat": 4,
  "nbformat_minor": 0,
  "metadata": {
    "colab": {
      "provenance": []
    },
    "kernelspec": {
      "name": "python3",
      "display_name": "Python 3"
    },
    "language_info": {
      "name": "python"
    }
  },
  "cells": [
    {
      "cell_type": "code",
      "execution_count": null,
      "metadata": {
        "id": "2RAY_PUMWk9M"
      },
      "outputs": [],
      "source": [
        "class Employee:\n",
        "    def __init__(self, name, salary, ssn):\n",
        "        self.name = name           # Public variable\n",
        "        self._salary = salary      # Protected variable (by convention)\n",
        "        self.__ssn = ssn           # Private variable (name mangling)\n",
        "\n",
        "# Create an instance of Employee\n",
        "emp = Employee(\"Alice\", 50000, \"123-45-6789\")\n",
        "\n",
        "# Accessing public variable\n",
        "print(\"Name:\", emp.name)  # ✅ Works: Public variables are accessible\n",
        "\n",
        "# Accessing protected variable\n",
        "print(\"Salary:\", emp._salary)  # ⚠️ Works, but discouraged: Conventionally protected\n",
        "\n",
        "# Accessing private variable\n",
        "try:\n",
        "    print(\"SSN:\", emp.__ssn)  # ❌ Fails: Private variable not directly accessible\n",
        "except AttributeError as e:\n",
        "    print(\"Error accessing __ssn:\", e)\n",
        "\n",
        "# Accessing private variable using name mangling (not recommended)\n",
        "print(\"Accessing __ssn with name mangling:\", emp._Employee__ssn)  # ✅ Works: But not recommended\n"
      ]
    }
  ]
}