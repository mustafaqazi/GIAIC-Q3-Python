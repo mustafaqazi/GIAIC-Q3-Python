{
  "nbformat": 4,
  "nbformat_minor": 0,
  "metadata": {
    "colab": {
      "provenance": []
    },
    "kernelspec": {
      "name": "python3",
      "display_name": "Python 3"
    },
    "language_info": {
      "name": "python"
    }
  },
  "cells": [
    {
      "cell_type": "code",
      "execution_count": null,
      "metadata": {
        "id": "53inqzelV6mb"
      },
      "outputs": [],
      "source": [
        "class MathUtils:\n",
        "    @staticmethod\n",
        "    def add(a, b):\n",
        "        return a + b\n",
        "\n",
        "\n",
        "# Example usage\n",
        "result = MathUtils.add(5, 7)\n",
        "print(\"Sum:\", result)  # Output: Sum: 12\n"
      ]
    }
  ]
}