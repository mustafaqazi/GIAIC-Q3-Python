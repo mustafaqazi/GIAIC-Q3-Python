{
  "nbformat": 4,
  "nbformat_minor": 0,
  "metadata": {
    "colab": {
      "provenance": []
    },
    "kernelspec": {
      "name": "python3",
      "display_name": "Python 3"
    },
    "language_info": {
      "name": "python"
    }
  },
  "cells": [
    {
      "cell_type": "code",
      "execution_count": null,
      "metadata": {
        "id": "c0Wg1vWdTAvU"
      },
      "outputs": [],
      "source": [
        "class Car:\n",
        "    def __init__(self, brand):\n",
        "        # Public instance variable\n",
        "        self.brand = brand\n",
        "\n",
        "    def start(self):\n",
        "        # Public method\n",
        "        print(f\"{self.brand} car is starting...\")\n",
        "\n",
        "\n",
        "# Instantiate the Car class\n",
        "my_car = Car(\"Toyota\")\n",
        "\n",
        "# Access the public variable\n",
        "print(\"Car Brand:\", my_car.brand)  # Output: Car Brand: Toyota\n",
        "\n",
        "# Call the public method\n",
        "my_car.start()  # Output: Toyota car is starting...\n"
      ]
    }
  ]
}