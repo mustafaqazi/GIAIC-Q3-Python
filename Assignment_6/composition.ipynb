{
  "nbformat": 4,
  "nbformat_minor": 0,
  "metadata": {
    "colab": {
      "provenance": []
    },
    "kernelspec": {
      "name": "python3",
      "display_name": "Python 3"
    },
    "language_info": {
      "name": "python"
    }
  },
  "cells": [
    {
      "cell_type": "code",
      "execution_count": null,
      "metadata": {
        "id": "fsGnOJyykyUe"
      },
      "outputs": [],
      "source": [
        "class Engine:\n",
        "    def start(self):\n",
        "        print(\"Engine started.\")\n",
        "\n",
        "\n",
        "class Car:\n",
        "    def __init__(self, engine):\n",
        "        self.engine = engine  # Composition: Car has an Engine\n",
        "\n",
        "    def start_car(self):\n",
        "        print(\"Starting the car...\")\n",
        "        self.engine.start()  # Accessing Engine's method\n",
        "\n",
        "\n",
        "# Example usage\n",
        "my_engine = Engine()\n",
        "my_car = Car(my_engine)\n",
        "\n",
        "my_car.st_\n"
      ]
    }
  ]
}