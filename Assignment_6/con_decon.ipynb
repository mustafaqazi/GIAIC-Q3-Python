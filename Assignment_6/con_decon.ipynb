{
  "nbformat": 4,
  "nbformat_minor": 0,
  "metadata": {
    "colab": {
      "provenance": []
    },
    "kernelspec": {
      "name": "python3",
      "display_name": "Python 3"
    },
    "language_info": {
      "name": "python"
    }
  },
  "cells": [
    {
      "cell_type": "code",
      "execution_count": null,
      "metadata": {
        "id": "2p5t9kUIWN1k"
      },
      "outputs": [],
      "source": [
        "class Logger:\n",
        "    def __init__(self):\n",
        "        print(\"Logger object has been created.\")\n",
        "\n",
        "    def __del__(self):\n",
        "        print(\"Logger object has been destroyed.\")\n",
        "\n",
        "\n",
        "# Example usage\n",
        "log = Logger()\n",
        "\n",
        "# To manually trigger destruction (not required, but for demonstration)\n",
        "del log\n",
        "\n",
        "# Note: The destructor (__del__) is called when the object is garbage collected,\n",
        "# which may not be immediately after `del` in some environments (like interactive shells).\n"
      ]
    }
  ]
}