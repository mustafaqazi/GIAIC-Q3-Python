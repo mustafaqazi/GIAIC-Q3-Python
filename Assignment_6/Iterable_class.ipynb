{
  "nbformat": 4,
  "nbformat_minor": 0,
  "metadata": {
    "colab": {
      "provenance": []
    },
    "kernelspec": {
      "name": "python3",
      "display_name": "Python 3"
    },
    "language_info": {
      "name": "python"
    }
  },
  "cells": [
    {
      "cell_type": "code",
      "execution_count": null,
      "metadata": {
        "id": "cHHuRxyarEdF"
      },
      "outputs": [],
      "source": [
        "class Countdown:\n",
        "    def __init__(self, start):\n",
        "        self.current = start  # Initialize with the start number\n",
        "\n",
        "    def __iter__(self):\n",
        "        return self  # The object itself is the iterator\n",
        "\n",
        "    def __next__(self):\n",
        "        if self.current < 0:\n",
        "            raise StopIteration  # Stop when it goes below 0\n",
        "        else:\n",
        "            value = self.current\n",
        "            self.current -= 1\n",
        "            return value\n",
        "\n",
        "# Example usage\n",
        "for number in Countdown(5):\n",
        "    print(number)\n"
      ]
    }
  ]
}