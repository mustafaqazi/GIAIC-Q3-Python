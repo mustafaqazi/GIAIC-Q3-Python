{
  "nbformat": 4,
  "nbformat_minor": 0,
  "metadata": {
    "colab": {
      "provenance": []
    },
    "kernelspec": {
      "name": "python3",
      "display_name": "Python 3"
    },
    "language_info": {
      "name": "python"
    }
  },
  "cells": [
    {
      "cell_type": "code",
      "execution_count": null,
      "metadata": {
        "id": "av7MwekLakIX"
      },
      "outputs": [],
      "source": [
        "class Book:\n",
        "    # Class variable to keep track of the total number of books\n",
        "    total_books = 0\n",
        "\n",
        "    def __init__(self, title, author):\n",
        "        self.title = title\n",
        "        self.author = author\n",
        "        # Increment book count when a new book is created\n",
        "        Book.increment_book_count()\n",
        "\n",
        "    @classmethod\n",
        "    def increment_book_count(cls):\n",
        "        cls.total_books += 1\n",
        "\n",
        "    @classmethod\n",
        "    def get_total_books(cls):\n",
        "        return cls.total_books\n",
        "\n",
        "\n",
        "# Example usage\n",
        "b1 = Book(\"1984\", \"George Orwell\")\n",
        "b2 = Book(\"To Kill a Mockingbird\", \"Harper Lee\")\n",
        "b3 = Book(\"The Great Gatsby\", \"F. Scott Fitzgerald\")\n",
        "\n",
        "print(\"Total books added:\", Book.get_total_books())  # Output: Total books added: 3\n"
      ]
    }
  ]
}