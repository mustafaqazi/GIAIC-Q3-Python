{
  "nbformat": 4,
  "nbformat_minor": 0,
  "metadata": {
    "colab": {
      "provenance": []
    },
    "kernelspec": {
      "name": "python3",
      "display_name": "Python 3"
    },
    "language_info": {
      "name": "python"
    }
  },
  "cells": [
    {
      "cell_type": "code",
      "execution_count": null,
      "metadata": {
        "id": "HIX9vmNU-c4t"
      },
      "outputs": [],
      "source": [
        "#Build_Compose_and_Decorate_A_Complete_Traditional_OOP_Practice_Series\n",
        "class Student:\n",
        "    def __init__(self, name, marks):\n",
        "        self.name = name      # Initialize name using self\n",
        "        self.marks = marks    # Initialize marks using self\n",
        "\n",
        "    def display(self):\n",
        "        print(\"Student Name:\", self.name)\n",
        "        print(\"Marks:\", self.marks)\n",
        "\n",
        "# Example usage\n",
        "student1 = Student(\"Alice\", 92)\n",
        "student1.display()\n"
      ]
    }
  ]
}