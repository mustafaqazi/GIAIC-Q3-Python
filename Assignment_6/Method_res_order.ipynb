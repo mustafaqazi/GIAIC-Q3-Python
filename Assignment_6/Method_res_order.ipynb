{
  "nbformat": 4,
  "nbformat_minor": 0,
  "metadata": {
    "colab": {
      "provenance": []
    },
    "kernelspec": {
      "name": "python3",
      "display_name": "Python 3"
    },
    "language_info": {
      "name": "python"
    }
  },
  "cells": [
    {
      "cell_type": "code",
      "execution_count": null,
      "metadata": {
        "id": "VOO2V-ybl0GS"
      },
      "outputs": [],
      "source": [
        "class A:\n",
        "    def show(self):\n",
        "        print(\"Show from class A\")\n",
        "\n",
        "class B(A):\n",
        "    def show(self):\n",
        "        print(\"Show from class B\")\n",
        "\n",
        "class C(A):\n",
        "    def show(self):\n",
        "        print(\"Show from class C\")\n",
        "\n",
        "class D(B, C):  # Multiple inheritance\n",
        "    pass\n",
        "\n",
        "# Create object of class D\n",
        "d = D()\n",
        "d.show()  # Observe which class's show() gets called\n",
        "\n",
        "# Print the Method Resolution Order\n",
        "print(\"MRO of class D:\", [cls.__name__ for cls in D.__mro__])\n"
      ]
    }
  ]
}