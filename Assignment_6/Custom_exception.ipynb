{
  "nbformat": 4,
  "nbformat_minor": 0,
  "metadata": {
    "colab": {
      "provenance": []
    },
    "kernelspec": {
      "name": "python3",
      "display_name": "Python 3"
    },
    "language_info": {
      "name": "python"
    }
  },
  "cells": [
    {
      "cell_type": "code",
      "execution_count": null,
      "metadata": {
        "id": "a5ZT27KQqCxm"
      },
      "outputs": [],
      "source": [
        "# Define the custom exception\n",
        "class InvalidAgeError(Exception):\n",
        "    \"\"\"Custom exception raised when age is less than 18.\"\"\"\n",
        "    pass\n",
        "\n",
        "# Function to check age\n",
        "def check_age(age):\n",
        "    if age < 18:\n",
        "        raise InvalidAgeError(\"Age must be at least 18.\")\n",
        "    else:\n",
        "        print(\"Access granted. Age is valid.\")\n",
        "\n",
        "# Example usage with exception handling\n",
        "try:\n",
        "    user_age = int(input(\"Enter your age: \"))\n",
        "    check_age(user_age)\n",
        "except InvalidAgeError as e:\n",
        "    print(f\"InvalidAgeError: {e}\")\n",
        "except ValueError:\n",
        "    print(\"Please enter a valid integer for age.\")\n"
      ]
    }
  ]
}