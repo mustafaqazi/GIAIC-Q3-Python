{
  "nbformat": 4,
  "nbformat_minor": 0,
  "metadata": {
    "colab": {
      "provenance": []
    },
    "kernelspec": {
      "name": "python3",
      "display_name": "Python 3"
    },
    "language_info": {
      "name": "python"
    }
  },
  "cells": [
    {
      "cell_type": "code",
      "execution_count": null,
      "metadata": {
        "id": "OPGYop_iXLEd"
      },
      "outputs": [],
      "source": [
        "class Person:\n",
        "    def __init__(self, name):\n",
        "        self.name = name\n",
        "        print(f\"Person created with name: {self.name}\")\n",
        "\n",
        "class Teacher(Person):\n",
        "    def __init__(self, name, subject):\n",
        "        super().__init__(name)  # Call the constructor of the base class\n",
        "        self.subject = subject\n",
        "        print(f\"Teacher created who teaches: {self.subject}\")\n",
        "\n",
        "\n",
        "# Example usage\n",
        "t = Teacher(\"Alice\", \"Mathematics\")\n"
      ]
    }
  ]
}