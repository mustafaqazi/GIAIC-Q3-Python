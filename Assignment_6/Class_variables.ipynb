{
  "nbformat": 4,
  "nbformat_minor": 0,
  "metadata": {
    "colab": {
      "provenance": []
    },
    "kernelspec": {
      "name": "python3",
      "display_name": "Python 3"
    },
    "language_info": {
      "name": "python"
    }
  },
  "cells": [
    {
      "cell_type": "code",
      "execution_count": null,
      "metadata": {
        "id": "VaHVqJFeTo0k"
      },
      "outputs": [],
      "source": [
        "class Bank:\n",
        "    # Class variable shared by all instances\n",
        "    bank_name = \"Default Bank\"\n",
        "\n",
        "    def __init__(self, account_holder):\n",
        "        self.account_holder = account_holder\n",
        "\n",
        "    @classmethod\n",
        "    def change_bank_name(cls, name):\n",
        "        cls.bank_name = name\n",
        "\n",
        "    def display(self):\n",
        "        print(f\"Account Holder: {self.account_holder}, Bank: {self.bank_name}\")\n",
        "\n",
        "\n",
        "# Create instances of Bank\n",
        "acc1 = Bank(\"Alice\")\n",
        "acc2 = Bank(\"Bob\")\n",
        "\n",
        "# Display initial bank names\n",
        "acc1.display()  # Output: Account Holder: Alice, Bank: Default Bank\n",
        "acc2.display()  # Output: Account Holder: Bob, Bank: Default Bank\n",
        "\n",
        "# Change the bank name using class method\n",
        "Bank.change_bank_name(\"Global Trust Bank\")\n",
        "\n",
        "# Display updated bank names (should reflect in all instances)\n",
        "acc1.display()  # Output: Account Holder: Alice, Bank: Global Trust Bank\n",
        "acc2.display()  # Output: Account Holder: Bob, Bank: Global Trust Bank\n"
      ]
    }
  ]
}