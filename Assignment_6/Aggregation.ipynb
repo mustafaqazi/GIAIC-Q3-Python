{
  "nbformat": 4,
  "nbformat_minor": 0,
  "metadata": {
    "colab": {
      "provenance": []
    },
    "kernelspec": {
      "name": "python3",
      "display_name": "Python 3"
    },
    "language_info": {
      "name": "python"
    }
  },
  "cells": [
    {
      "cell_type": "code",
      "execution_count": null,
      "metadata": {
        "id": "7zhSRygtlPnU"
      },
      "outputs": [],
      "source": [
        "class Employee:\n",
        "    def __init__(self, name, emp_id):\n",
        "        self.name = name\n",
        "        self.emp_id = emp_id\n",
        "\n",
        "    def display_info(self):\n",
        "        print(f\"Employee Name: {self.name}, ID: {self.emp_id}\")\n",
        "\n",
        "\n",
        "class Department:\n",
        "    def __init__(self, dept_name, employee):\n",
        "        self.dept_name = dept_name\n",
        "        self.employee = employee  # Aggregation: Department has a reference to an independent Employee\n",
        "\n",
        "    def show_department_info(self):\n",
        "        print(f\"Department: {self.dept_name}\")\n",
        "        self.employee.display_info()\n",
        "\n",
        "\n",
        "# Example usage\n",
        "emp = Employee(\"Alice\", 101)           # Employee exists independently\n",
        "dept = Department(\"HR\", emp)          # Department refers to the employee\n",
        "\n",
        "dept.show_department_info()\n"
      ]
    }
  ]
}