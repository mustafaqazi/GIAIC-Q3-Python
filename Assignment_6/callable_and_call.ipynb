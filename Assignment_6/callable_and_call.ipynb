{
  "nbformat": 4,
  "nbformat_minor": 0,
  "metadata": {
    "colab": {
      "provenance": []
    },
    "kernelspec": {
      "name": "python3",
      "display_name": "Python 3"
    },
    "language_info": {
      "name": "python"
    }
  },
  "cells": [
    {
      "cell_type": "code",
      "execution_count": 1,
      "metadata": {
        "colab": {
          "base_uri": "https://localhost:8080/"
        },
        "id": "n9GV-8gcps44",
        "outputId": "d6f0102d-e689-4040-a530-e2b49c925426"
      },
      "outputs": [
        {
          "output_type": "stream",
          "name": "stdout",
          "text": [
            "True\n",
            "30\n"
          ]
        }
      ],
      "source": [
        "class Multiplier:\n",
        "    def __init__(self, factor):\n",
        "        self.factor = factor  # Set the multiplication factor\n",
        "\n",
        "    def __call__(self, value):\n",
        "        \"\"\"Allows the object to be called like a function to multiply the input.\"\"\"\n",
        "        return value * self.factor\n",
        "\n",
        "\n",
        "# Create an instance with a factor of 3\n",
        "triple = Multiplier(3)\n",
        "\n",
        "# Test if it's callable\n",
        "print(callable(triple))  # Output: True\n",
        "\n",
        "# Call the object like a function\n",
        "result = triple(10)\n",
        "print(result)  # Output: 30\n"
      ]
    }
  ]
}