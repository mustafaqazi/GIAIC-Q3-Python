{
  "nbformat": 4,
  "nbformat_minor": 0,
  "metadata": {
    "colab": {
      "provenance": [],
      "authorship_tag": "ABX9TyNFPfil6FMxe9LDK9HJiDfQ",
      "include_colab_link": true
    },
    "kernelspec": {
      "name": "python3",
      "display_name": "Python 3"
    },
    "language_info": {
      "name": "python"
    }
  },
  "cells": [
    {
      "cell_type": "markdown",
      "metadata": {
        "id": "view-in-github",
        "colab_type": "text"
      },
      "source": [
        "<a href=\"https://colab.research.google.com/github/mustafaqazi/GIAIC-Q3-Python/blob/main/password_strength_meter.ipynb\" target=\"_parent\"><img src=\"https://colab.research.google.com/assets/colab-badge.svg\" alt=\"Open In Colab\"/></a>"
      ]
    },
    {
      "cell_type": "code",
      "execution_count": 1,
      "metadata": {
        "colab": {
          "base_uri": "https://localhost:8080/"
        },
        "id": "Gz-2KrPAv0pR",
        "outputId": "66c34751-5880-463c-caef-32d2ab2528ea"
      },
      "outputs": [
        {
          "output_type": "stream",
          "name": "stdout",
          "text": [
            "\u001b[2K     \u001b[90m━━━━━━━━━━━━━━━━━━━━━━━━━━━━━━━━━━━━━━━━\u001b[0m \u001b[32m44.3/44.3 kB\u001b[0m \u001b[31m1.9 MB/s\u001b[0m eta \u001b[36m0:00:00\u001b[0m\n",
            "\u001b[2K   \u001b[90m━━━━━━━━━━━━━━━━━━━━━━━━━━━━━━━━━━━━━━━━\u001b[0m \u001b[32m9.8/9.8 MB\u001b[0m \u001b[31m72.4 MB/s\u001b[0m eta \u001b[36m0:00:00\u001b[0m\n",
            "\u001b[2K   \u001b[90m━━━━━━━━━━━━━━━━━━━━━━━━━━━━━━━━━━━━━━━━\u001b[0m \u001b[32m6.9/6.9 MB\u001b[0m \u001b[31m36.8 MB/s\u001b[0m eta \u001b[36m0:00:00\u001b[0m\n",
            "\u001b[2K   \u001b[90m━━━━━━━━━━━━━━━━━━━━━━━━━━━━━━━━━━━━━━━━\u001b[0m \u001b[32m79.1/79.1 kB\u001b[0m \u001b[31m3.6 MB/s\u001b[0m eta \u001b[36m0:00:00\u001b[0m\n",
            "\u001b[?25h"
          ]
        }
      ],
      "source": [
        "!pip install streamlit pyngrok --quiet\n"
      ]
    },
    {
      "cell_type": "code",
      "source": [
        "%%writefile password_strength_app.py\n",
        "import streamlit as st\n",
        "import re\n",
        "\n",
        "st.set_page_config(page_title=\"🔐 Password Strength Checker\", layout=\"centered\")\n",
        "st.title(\"🔐 Password Strength Meter\")\n",
        "\n",
        "password = st.text_input(\"Enter a password to check strength\", type=\"password\")\n",
        "\n",
        "def check_strength(pwd):\n",
        "    strength = 0\n",
        "    remarks = []\n",
        "\n",
        "    if len(pwd) >= 8:\n",
        "        strength += 1\n",
        "    else:\n",
        "        remarks.append(\"⚠️ Password should be at least 8 characters.\")\n",
        "\n",
        "    if re.search(r\"[a-z]\", pwd) and re.search(r\"[A-Z]\", pwd):\n",
        "        strength += 1\n",
        "    else:\n",
        "        remarks.append(\"⚠️ Include both uppercase and lowercase letters.\")\n",
        "\n",
        "    if re.search(r\"\\d\", pwd):\n",
        "        strength += 1\n",
        "    else:\n",
        "        remarks.append(\"⚠️ Add numbers to make it stronger.\")\n",
        "\n",
        "    if re.search(r\"[!@#$%^&*(),.?\\\":{}|<>]\", pwd):\n",
        "        strength += 1\n",
        "    else:\n",
        "        remarks.append(\"⚠️ Use special characters for extra strength.\")\n",
        "\n",
        "    return strength, remarks\n",
        "\n",
        "if password:\n",
        "    strength, issues = check_strength(password)\n",
        "\n",
        "    if strength == 4:\n",
        "        st.success(\"✅ Strong password!\")\n",
        "    elif strength == 3:\n",
        "        st.info(\"🟡 Medium strength password.\")\n",
        "    else:\n",
        "        st.warning(\"🔴 Weak password!\")\n",
        "\n",
        "    for issue in issues:\n",
        "        st.write(issue)\n"
      ],
      "metadata": {
        "colab": {
          "base_uri": "https://localhost:8080/"
        },
        "id": "U3ufG-ZGv7Bz",
        "outputId": "98d0a341-3ea6-491b-8f25-9b88c19344ca"
      },
      "execution_count": 2,
      "outputs": [
        {
          "output_type": "stream",
          "name": "stdout",
          "text": [
            "Writing password_strength_app.py\n"
          ]
        }
      ]
    },
    {
      "cell_type": "code",
      "source": [
        "from pyngrok import ngrok\n",
        "\n",
        "# Replace with your ngrok authtoken: https://dashboard.ngrok.com/get-started/your-authtoken\n",
        "ngrok.set_auth_token(\"2uAR9ADeEzrfxiM3G6dJL1rlppw_68kkWNC2pvj46pVYbJHAy\")\n",
        "\n",
        "# Kill previous tunnels if any\n",
        "ngrok.kill()\n",
        "\n",
        "# Start a tunnel to streamlit on port 8501\n",
        "public_url = ngrok.connect(8501)\n",
        "print(\"🌍 App URL:\", public_url)\n",
        "\n",
        "# Launch the app\n",
        "!streamlit run password_strength_app.py & npx wait-on http://localhost:8501\n"
      ],
      "metadata": {
        "colab": {
          "base_uri": "https://localhost:8080/"
        },
        "id": "X1cIxdHOwGdy",
        "outputId": "64d32944-4b18-49b3-b6ef-b9371b3171c5"
      },
      "execution_count": null,
      "outputs": [
        {
          "output_type": "stream",
          "name": "stdout",
          "text": [
            "🌍 App URL: NgrokTunnel: \"https://6fe5-34-125-117-238.ngrok-free.app\" -> \"http://localhost:8501\"\n",
            "\n",
            "Collecting usage statistics. To deactivate, set browser.gatherUsageStats to false.\n",
            "\u001b[0m\n",
            "\u001b[1G\u001b[0K⠙\u001b[1G\u001b[0K⠹\u001b[1G\u001b[0K⠸\u001b[1G\u001b[0K⠼\u001b[1G\u001b[0K⠴\u001b[0m\n",
            "\u001b[34m\u001b[1m  You can now view your Streamlit app in your browser.\u001b[0m\n",
            "\u001b[0m\n",
            "\u001b[34m  Local URL: \u001b[0m\u001b[1mhttp://localhost:8501\u001b[0m\n",
            "\u001b[34m  Network URL: \u001b[0m\u001b[1mhttp://172.28.0.12:8501\u001b[0m\n",
            "\u001b[34m  External URL: \u001b[0m\u001b[1mhttp://34.125.117.238:8501\u001b[0m\n",
            "\u001b[0m\n",
            "\u001b[1G\u001b[0K⠦\u001b[1G\u001b[0K\u001b[1G\u001b[0JNeed to install the following packages:\n",
            "wait-on@8.0.3\n",
            "Ok to proceed? (y) \u001b[20G"
          ]
        }
      ]
    }
  ]
}