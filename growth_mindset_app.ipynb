{
  "nbformat": 4,
  "nbformat_minor": 0,
  "metadata": {
    "colab": {
      "provenance": []
    },
    "kernelspec": {
      "name": "python3",
      "display_name": "Python 3"
    },
    "language_info": {
      "name": "python"
    }
  },
  "cells": [
    {
      "cell_type": "code",
      "execution_count": 13,
      "metadata": {
        "colab": {
          "base_uri": "https://localhost:8080/"
        },
        "id": "w0i3aRrwLSYk",
        "outputId": "42cbb34b-3362-42bd-e296-2e0f6bd23142"
      },
      "outputs": [
        {
          "output_type": "stream",
          "name": "stdout",
          "text": [
            "🌍 Public URL: NgrokTunnel: \"https://8350-34-145-137-211.ngrok-free.app\" -> \"http://localhost:8501\"\n",
            "\n",
            "Collecting usage statistics. To deactivate, set browser.gatherUsageStats to false.\n",
            "\u001b[0m\n",
            "\u001b[1G\u001b[0K⠙\u001b[1G\u001b[0K⠹\u001b[0m\n",
            "\u001b[34m\u001b[1m  You can now view your Streamlit app in your browser.\u001b[0m\n",
            "\u001b[0m\n",
            "\u001b[34m  Local URL: \u001b[0m\u001b[1mhttp://localhost:8501\u001b[0m\n",
            "\u001b[34m  Network URL: \u001b[0m\u001b[1mhttp://172.28.0.12:8501\u001b[0m\n",
            "\u001b[34m  External URL: \u001b[0m\u001b[1mhttp://34.145.137.211:8501\u001b[0m\n",
            "\u001b[0m\n",
            "\u001b[1G\u001b[0K⠸\u001b[1G\u001b[0K⠼\u001b[1G\u001b[0K⠴\u001b[1G\u001b[0K\u001b[1G\u001b[0K⠙\u001b[1G\u001b[0K\u001b[34m  Stopping...\u001b[0m\n"
          ]
        }
      ],
      "source": [
        "#App Concept: Growth Mindset Challenge\n",
        "#Features:\n",
        "#Daily challenge (randomly selected)\n",
        "#Inspirational quote\n",
        "#Short journaling prompt input\n",
        "#Option to view previous reflections (stored in session or file)\n",
        "\n",
        "# Install necessary packages\n",
        "!pip install streamlit pyngrok --quiet\n",
        "\n",
        "# Write the Streamlit app to a file\n",
        "with open(\"growth_mindset_app.py\", \"w\") as f:\n",
        "    f.write('''\n",
        "import streamlit as st\n",
        "import random\n",
        "from datetime import date\n",
        "\n",
        "st.set_page_config(page_title=\"Growth Mindset Challenge\", layout=\"centered\")\n",
        "\n",
        "# Daily Challenges and Quotes\n",
        "challenges = [\n",
        "    \"Try something you've never done before.\",\n",
        "    \"Ask for feedback and use it to improve.\",\n",
        "    \"Reflect on a recent mistake and what you learned.\",\n",
        "    \"Teach something you know to someone else.\",\n",
        "    \"Practice gratitude for a challenge you overcame.\",\n",
        "]\n",
        "\n",
        "quotes = [\n",
        "    \"“It’s not that I’m so smart, it’s just that I stay with problems longer.” – Albert Einstein\",\n",
        "    \"“Success is not an accident, success is a choice.” – Stephen Curry\",\n",
        "    \"“Strive for progress, not perfection.”\",\n",
        "    \"“I can’t do it”... yet.\",\n",
        "    \"“Mistakes are proof that you are trying.”\",\n",
        "]\n",
        "\n",
        "st.title(\"🌱 Growth Mindset Challenge\")\n",
        "st.write(f\"📅 **Date:** {date.today().strftime('%B %d, %Y')}\")\n",
        "\n",
        "# Random challenge & quote\n",
        "daily_challenge = random.choice(challenges)\n",
        "daily_quote = random.choice(quotes)\n",
        "\n",
        "st.header(\"🎯 Today's Challenge\")\n",
        "st.info(daily_challenge)\n",
        "\n",
        "st.header(\"💬 Inspirational Quote\")\n",
        "st.success(daily_quote)\n",
        "\n",
        "# Journal entry\n",
        "st.header(\"📝 Your Reflection\")\n",
        "journal = st.text_area(\"How do you plan to face today's challenge or what are you feeling?\", height=200)\n",
        "\n",
        "if st.button(\"Save Reflection\"):\n",
        "    with open(\"reflections.txt\", \"a\") as file:\n",
        "      file.write(f\"{date.today()}:\")\n",
        "      st.success(\"Reflection saved! Come back tomorrow for another challenge.\")\n",
        "\n",
        "# View past reflections\n",
        "if st.checkbox(\"📖 Show Past Reflections\"):\n",
        "    try:\n",
        "        with open(\"reflections.txt\", \"r\") as file:\n",
        "            reflections = file.read()\n",
        "        st.text_area(\"Past Reflections\", reflections, height=300)\n",
        "    except FileNotFoundError:\n",
        "        st.warning(\"No reflections yet. Start today!\")\n",
        "''')\n",
        "\n",
        "# Run the Streamlit app using ngrok\n",
        "from pyngrok import ngrok\n",
        "ngrok.set_auth_token(\"2uAR9ADeEzrfxiM3G6dJL1rlppw_68kkWNC2pvj46pVYbJHAy\")\n",
        "\n",
        "\n",
        "# Kill previous tunnels (if any)\n",
        "ngrok.kill()\n",
        "\n",
        "# Open tunnel\n",
        "public_url = ngrok.connect(8501, \"http\")\n",
        "print(\"🌍 Public URL:\", public_url)\n",
        "\n",
        "# Run Streamlit app\n",
        "!streamlit run growth_mindset_app.py & npx wait-on http://localhost:8501\n"
      ]
    }
  ]
}