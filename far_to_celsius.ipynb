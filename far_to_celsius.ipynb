{
  "nbformat": 4,
  "nbformat_minor": 0,
  "metadata": {
    "colab": {
      "provenance": [],
      "authorship_tag": "ABX9TyMGMsRlG/yNkoqNF9bf1abN",
      "include_colab_link": true
    },
    "kernelspec": {
      "name": "python3",
      "display_name": "Python 3"
    },
    "language_info": {
      "name": "python"
    }
  },
  "cells": [
    {
      "cell_type": "markdown",
      "metadata": {
        "id": "view-in-github",
        "colab_type": "text"
      },
      "source": [
        "<a href=\"https://colab.research.google.com/github/mustafaqazi/GIAIC-Q3-Python/blob/main/far_to_celsius.ipynb\" target=\"_parent\"><img src=\"https://colab.research.google.com/assets/colab-badge.svg\" alt=\"Open In Colab\"/></a>"
      ]
    },
    {
      "cell_type": "code",
      "execution_count": 3,
      "metadata": {
        "colab": {
          "base_uri": "https://localhost:8080/"
        },
        "id": "evR_tAhF6Zxo",
        "outputId": "d8ab40c6-79f3-4a77-c20c-ed2eb236cfc9"
      },
      "outputs": [
        {
          "output_type": "stream",
          "name": "stdout",
          "text": [
            "Enter temperature in Fahrenheit: 96\n",
            "Temperature: 96.0F = 35.55555555555556C\n"
          ]
        }
      ],
      "source": [
        "# Prompt the user to enter a temperature in Fahrenheit\n",
        "fahrenheit = float(input(\"Enter temperature in Fahrenheit: \"))\n",
        "\n",
        "# Convert the temperature to Celsius\n",
        "celsius = (fahrenheit - 32) * 5.0 / 9.0\n",
        "\n",
        "# Print the result\n",
        "print(f\"Temperature: {fahrenheit}F = {celsius}C\")\n"
      ]
    }
  ]
}