{
  "nbformat": 4,
  "nbformat_minor": 0,
  "metadata": {
    "colab": {
      "provenance": [],
      "authorship_tag": "ABX9TyOiQtCWokJddsAY2KmdA3AJ",
      "include_colab_link": true
    },
    "kernelspec": {
      "name": "python3",
      "display_name": "Python 3"
    },
    "language_info": {
      "name": "python"
    }
  },
  "cells": [
    {
      "cell_type": "markdown",
      "metadata": {
        "id": "view-in-github",
        "colab_type": "text"
      },
      "source": [
        "<a href=\"https://colab.research.google.com/github/mustafaqazi/GIAIC-Q3-Python/blob/main/square_number.ipynb\" target=\"_parent\"><img src=\"https://colab.research.google.com/assets/colab-badge.svg\" alt=\"Open In Colab\"/></a>"
      ]
    },
    {
      "cell_type": "code",
      "execution_count": 1,
      "metadata": {
        "colab": {
          "base_uri": "https://localhost:8080/"
        },
        "id": "nSgok-o98e4n",
        "outputId": "a91167d4-9844-4203-ac41-bab1f206520c"
      },
      "outputs": [
        {
          "output_type": "stream",
          "name": "stdout",
          "text": [
            "Type a number to see its square: 16\n",
            "16.0 squared is 256.0\n"
          ]
        }
      ],
      "source": [
        "def main():\n",
        "    num: float = float(input(\"Type a number to see its square: \")) # Make sure to cast the input to a float so we can do math with it!\n",
        "    print(str(num) + \" squared is \" + str(num ** 2)) # num * num is equivalent to num ** 2. The ** operator raises something to a power!\n",
        "\n",
        "\n",
        "# There is no need to edit code beyond this point\n",
        "\n",
        "if __name__ == '__main__':\n",
        "    main()\n"
      ]
    }
  ]
}