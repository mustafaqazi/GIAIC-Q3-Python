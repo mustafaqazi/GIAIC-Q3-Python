{
  "nbformat": 4,
  "nbformat_minor": 0,
  "metadata": {
    "colab": {
      "provenance": [],
      "authorship_tag": "ABX9TyPr/g1AtxpB/TfnCmNWP/d1",
      "include_colab_link": true
    },
    "kernelspec": {
      "name": "python3",
      "display_name": "Python 3"
    },
    "language_info": {
      "name": "python"
    }
  },
  "cells": [
    {
      "cell_type": "markdown",
      "metadata": {
        "id": "view-in-github",
        "colab_type": "text"
      },
      "source": [
        "<a href=\"https://colab.research.google.com/github/mustafaqazi/GIAIC-Q3-Python/blob/main/secure_app.ipynb\" target=\"_parent\"><img src=\"https://colab.research.google.com/assets/colab-badge.svg\" alt=\"Open In Colab\"/></a>"
      ]
    },
    {
      "cell_type": "code",
      "execution_count": 15,
      "metadata": {
        "id": "vBI0oUs4IDVV"
      },
      "outputs": [],
      "source": [
        "!pip install streamlit cryptography pyngrok --quiet"
      ]
    },
    {
      "cell_type": "code",
      "source": [
        "%%writefile secure_app.py\n",
        "\n",
        "import streamlit as st\n",
        "from cryptography.fernet import Fernet, InvalidToken\n",
        "import base64\n",
        "import hashlib\n",
        "\n",
        "def generate_key(passkey):\n",
        "    return base64.urlsafe_b64encode(hashlib.sha256(passkey.encode()).digest())\n",
        "\n",
        "def encrypt_data(data, passkey):\n",
        "    key = generate_key(passkey)\n",
        "    f = Fernet(key)\n",
        "    return f.encrypt(data.encode())\n",
        "\n",
        "def decrypt_data(token, passkey):\n",
        "    key = generate_key(passkey)\n",
        "    f = Fernet(key)\n",
        "    return f.decrypt(token).decode()\n",
        "\n",
        "# Initialize session state\n",
        "if \"page\" not in st.session_state:\n",
        "    st.session_state.page = \"login\"\n",
        "if \"is_logged_in\" not in st.session_state:\n",
        "    st.session_state.is_logged_in = False\n",
        "if \"failed_attempts\" not in st.session_state:\n",
        "    st.session_state.failed_attempts = 0\n",
        "if \"encrypted_data\" not in st.session_state:\n",
        "    st.session_state.encrypted_data = None\n",
        "\n",
        "def login_page():\n",
        "    st.title(\"🔐 Secure Data System - Login\")\n",
        "    username = st.text_input(\"Username\")\n",
        "    password = st.text_input(\"Password\", type=\"password\")\n",
        "    if st.button(\"Login\"):\n",
        "        if username == \"admin\" and password == \"admin\":\n",
        "            st.session_state.is_logged_in = True\n",
        "            st.session_state.failed_attempts = 0\n",
        "            st.session_state.page = \"main\"\n",
        "            st.success(\"✅ Login successful\")\n",
        "        else:\n",
        "            st.error(\"❌ Invalid credentials\")\n",
        "\n",
        "def main_app():\n",
        "    st.title(\"🛡️ Secure Data Encryption System\")\n",
        "    menu = [\"Store Data\", \"Retrieve Data\"]\n",
        "    choice = st.radio(\"Choose an action\", menu)\n",
        "\n",
        "    if choice == \"Store Data\":\n",
        "        data = st.text_area(\"Enter data to store securely\")\n",
        "        passkey = st.text_input(\"Set your passkey\", type=\"password\")\n",
        "        if st.button(\"Encrypt & Store\"):\n",
        "            if data and passkey:\n",
        "                encrypted = encrypt_data(data, passkey)\n",
        "                st.session_state.encrypted_data = encrypted\n",
        "                st.success(\"✅ Data encrypted and stored.\")\n",
        "                st.download_button(\"Download Encrypted Data\", data=encrypted, file_name=\"data.enc\", mime=\"application/octet-stream\")\n",
        "            else:\n",
        "                st.warning(\"⚠️ Enter both data and passkey.\")\n",
        "\n",
        "    elif choice == \"Retrieve Data\":\n",
        "        passkey = st.text_input(\"Enter passkey to decrypt\", type=\"password\")\n",
        "        if st.button(\"Decrypt & Retrieve\"):\n",
        "            if st.session_state.encrypted_data is None:\n",
        "                st.warning(\"⚠️ No data stored.\")\n",
        "            else:\n",
        "                try:\n",
        "                    decrypted = decrypt_data(st.session_state.encrypted_data, passkey)\n",
        "                    st.success(\"✅ Decrypted Data:\")\n",
        "                    st.code(decrypted)\n",
        "                    st.session_state.failed_attempts = 0\n",
        "                except InvalidToken:\n",
        "                    st.session_state.failed_attempts += 1\n",
        "                    st.error(\"❌ Incorrect passkey!\")\n",
        "                    if st.session_state.failed_attempts >= 3:\n",
        "                        st.warning(\"🔁 Too many failed attempts. Please login again.\")\n",
        "                        st.session_state.page = \"login\"\n",
        "                        st.session_state.is_logged_in = False\n",
        "\n",
        "# Routing\n",
        "if st.session_state.page == \"login\" or not st.session_state.is_logged_in:\n",
        "    login_page()\n",
        "else:\n",
        "    main_app()\n"
      ],
      "metadata": {
        "colab": {
          "base_uri": "https://localhost:8080/"
        },
        "id": "ntkXTkIFINzH",
        "outputId": "223ccd74-5d04-476f-cfc7-b053198d8f0a"
      },
      "execution_count": 23,
      "outputs": [
        {
          "output_type": "stream",
          "name": "stdout",
          "text": [
            "Overwriting secure_app.py\n"
          ]
        }
      ]
    },
    {
      "cell_type": "code",
      "source": [
        "from pyngrok import ngrok\n",
        "import threading\n",
        "import os\n",
        "import time\n",
        "\n",
        "# Optional: insert your authtoken if not already done\n",
        "# from pyngrok import conf\n",
        "# conf.get_default().auth_token = \"YOUR_NGROK_TOKEN\"\n",
        "\n",
        "from pyngrok import conf\n",
        "conf.get_default().auth_token = \"2uAR9ADeEzrfxiM3G6dJL1rlppw_68kkWNC2pvj46pVYbJHAy\"\n",
        "\n",
        "# Kill old tunnels\n",
        "ngrok.kill()\n",
        "\n",
        "# Start Streamlit\n",
        "def run():\n",
        "    os.system(\"streamlit run secure_app.py\")\n",
        "\n",
        "threading.Thread(target=run).start()\n",
        "\n",
        "time.sleep(4)  # wait for app to launch\n",
        "\n",
        "public_url = ngrok.connect(8501)\n",
        "print(\"🔗 Streamlit app is live at:\", public_url)\n"
      ],
      "metadata": {
        "colab": {
          "base_uri": "https://localhost:8080/"
        },
        "id": "I8hJPWeFIxwR",
        "outputId": "28f133ba-81de-4475-e704-55dfe668e30c"
      },
      "execution_count": 24,
      "outputs": [
        {
          "output_type": "stream",
          "name": "stdout",
          "text": [
            "🔗 Streamlit app is live at: NgrokTunnel: \"https://aa7a-35-188-79-229.ngrok-free.app\" -> \"http://localhost:8501\"\n"
          ]
        }
      ]
    }
  ]
}