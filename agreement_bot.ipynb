{
  "nbformat": 4,
  "nbformat_minor": 0,
  "metadata": {
    "colab": {
      "provenance": [],
      "authorship_tag": "ABX9TyMyGcW382gPtTLh7JIZYUBs",
      "include_colab_link": true
    },
    "kernelspec": {
      "name": "python3",
      "display_name": "Python 3"
    },
    "language_info": {
      "name": "python"
    }
  },
  "cells": [
    {
      "cell_type": "markdown",
      "metadata": {
        "id": "view-in-github",
        "colab_type": "text"
      },
      "source": [
        "<a href=\"https://colab.research.google.com/github/mustafaqazi/GIAIC-Q3-Python/blob/main/agreement_bot.ipynb\" target=\"_parent\"><img src=\"https://colab.research.google.com/assets/colab-badge.svg\" alt=\"Open In Colab\"/></a>"
      ]
    },
    {
      "cell_type": "code",
      "execution_count": null,
      "metadata": {
        "id": "JvIaXH6w5JGS"
      },
      "outputs": [],
      "source": [
        "# Ask the user for their favorite animal\n",
        "favorite_animal = input(\"What's your favorite animal? \")\n",
        "\n",
        "# Respond with the same animal\n",
        "print(f\"My favorite animal is also {favorite_animal}!\")\n"
      ]
    }
  ]
}