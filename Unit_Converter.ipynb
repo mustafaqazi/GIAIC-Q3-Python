{
  "nbformat": 4,
  "nbformat_minor": 0,
  "metadata": {
    "colab": {
      "provenance": [],
      "authorship_tag": "ABX9TyPnpj8oXZwLO4wIlNWHkFkv",
      "include_colab_link": true
    },
    "kernelspec": {
      "name": "python3",
      "display_name": "Python 3"
    },
    "language_info": {
      "name": "python"
    }
  },
  "cells": [
    {
      "cell_type": "markdown",
      "metadata": {
        "id": "view-in-github",
        "colab_type": "text"
      },
      "source": [
        "<a href=\"https://colab.research.google.com/github/mustafaqazi/GIAIC-Q3-Python/blob/main/Unit_Converter.ipynb\" target=\"_parent\"><img src=\"https://colab.research.google.com/assets/colab-badge.svg\" alt=\"Open In Colab\"/></a>"
      ]
    },
    {
      "cell_type": "code",
      "execution_count": 1,
      "metadata": {
        "colab": {
          "base_uri": "https://localhost:8080/"
        },
        "id": "oyH7QSnvlvOU",
        "outputId": "a5eedb00-1d26-4859-9676-9e220f3e3e49"
      },
      "outputs": [
        {
          "output_type": "stream",
          "name": "stdout",
          "text": [
            "\u001b[2K     \u001b[90m━━━━━━━━━━━━━━━━━━━━━━━━━━━━━━━━━━━━━━━━\u001b[0m \u001b[32m44.3/44.3 kB\u001b[0m \u001b[31m1.5 MB/s\u001b[0m eta \u001b[36m0:00:00\u001b[0m\n",
            "\u001b[2K   \u001b[90m━━━━━━━━━━━━━━━━━━━━━━━━━━━━━━━━━━━━━━━━\u001b[0m \u001b[32m9.8/9.8 MB\u001b[0m \u001b[31m22.9 MB/s\u001b[0m eta \u001b[36m0:00:00\u001b[0m\n",
            "\u001b[2K   \u001b[90m━━━━━━━━━━━━━━━━━━━━━━━━━━━━━━━━━━━━━━━━\u001b[0m \u001b[32m6.9/6.9 MB\u001b[0m \u001b[31m29.0 MB/s\u001b[0m eta \u001b[36m0:00:00\u001b[0m\n",
            "\u001b[2K   \u001b[90m━━━━━━━━━━━━━━━━━━━━━━━━━━━━━━━━━━━━━━━━\u001b[0m \u001b[32m79.1/79.1 kB\u001b[0m \u001b[31m4.8 MB/s\u001b[0m eta \u001b[36m0:00:00\u001b[0m\n",
            "\u001b[?25h"
          ]
        }
      ],
      "source": [
        "!pip install streamlit pyngrok --quiet"
      ]
    },
    {
      "cell_type": "code",
      "source": [
        "%%writefile unit_converter_app.py\n",
        "import streamlit as st\n",
        "\n",
        "st.set_page_config(page_title=\"Unit Converter\", page_icon=\"🔄\", layout=\"centered\")\n",
        "\n",
        "st.title(\"🔄 Unit Converter Web App\")\n",
        "\n",
        "def convert_units(value, from_unit, to_unit, unit_type):\n",
        "    conversions = {\n",
        "        \"Length\": {\"m\": 1, \"cm\": 100, \"km\": 0.001, \"inch\": 39.3701, \"ft\": 3.28084, \"mile\": 0.000621371},\n",
        "        \"Weight\": {\"kg\": 1, \"g\": 1000, \"lb\": 2.20462, \"oz\": 35.274},\n",
        "        \"Temperature\": {\n",
        "            \"Celsius\": lambda c: c,\n",
        "            \"Fahrenheit\": lambda c: (c * 9/5) + 32,\n",
        "            \"Kelvin\": lambda c: c + 273.15\n",
        "        }\n",
        "    }\n",
        "\n",
        "    if unit_type == \"Temperature\":\n",
        "        base_c = value if from_unit == \"Celsius\" else (value - 32) * 5/9 if from_unit == \"Fahrenheit\" else value - 273.15\n",
        "        return conversions[\"Temperature\"][to_unit](base_c)\n",
        "\n",
        "    base_value = value / conversions[unit_type][from_unit]\n",
        "    return base_value * conversions[unit_type][to_unit]\n",
        "\n",
        "unit_type = st.selectbox(\"Choose unit type:\", [\"Length\", \"Weight\", \"Temperature\"])\n",
        "\n",
        "units = {\n",
        "    \"Length\": [\"m\", \"cm\", \"km\", \"inch\", \"ft\", \"mile\"],\n",
        "    \"Weight\": [\"kg\", \"g\", \"lb\", \"oz\"],\n",
        "    \"Temperature\": [\"Celsius\", \"Fahrenheit\", \"Kelvin\"]\n",
        "}\n",
        "\n",
        "from_unit = st.selectbox(\"From:\", units[unit_type])\n",
        "to_unit = st.selectbox(\"To:\", units[unit_type])\n",
        "value = st.number_input(\"Enter value:\", value=0.0)\n",
        "\n",
        "if st.button(\"Convert\"):\n",
        "    result = convert_units(value, from_unit, to_unit, unit_type)\n",
        "    st.success(f\"{value} {from_unit} = {round(result, 4)} {to_unit}\")\n"
      ],
      "metadata": {
        "colab": {
          "base_uri": "https://localhost:8080/"
        },
        "id": "-ZAjByTqo6Nq",
        "outputId": "9a22b0c0-2a85-49e7-b04f-53f362baa3c6"
      },
      "execution_count": 2,
      "outputs": [
        {
          "output_type": "stream",
          "name": "stdout",
          "text": [
            "Writing unit_converter_app.py\n"
          ]
        }
      ]
    },
    {
      "cell_type": "code",
      "source": [
        "from pyngrok import ngrok\n",
        "\n",
        "# Replace with your actual ngrok authtoken from: https://dashboard.ngrok.com/get-started/your-authtoken\n",
        "ngrok.set_auth_token(\"2uAR9ADeEzrfxiM3G6dJL1rlppw_68kkWNC2pvj46pVYbJHAy\")\n",
        "\n",
        "# Close previous tunnels if any\n",
        "ngrok.kill()\n",
        "\n",
        "# Create tunnel\n",
        "public_url = ngrok.connect(8501)\n",
        "print(\"🌐 Public URL:\", public_url)\n",
        "\n",
        "# Launch Streamlit\n",
        "!streamlit run unit_converter_app.py & npx wait-on http://localhost:8501\n"
      ],
      "metadata": {
        "colab": {
          "base_uri": "https://localhost:8080/"
        },
        "id": "R4StqkX_pJp6",
        "outputId": "ec87c3b8-37d0-483e-91c1-d25dac91dcbd"
      },
      "execution_count": null,
      "outputs": [
        {
          "metadata": {
            "tags": null
          },
          "name": "stdout",
          "output_type": "stream",
          "text": [
            "🌐 Public URL: NgrokTunnel: \"https://5c29-34-125-38-149.ngrok-free.app\" -> \"http://localhost:8501\"\n",
            "\n",
            "Collecting usage statistics. To deactivate, set browser.gatherUsageStats to false.\n",
            "\u001b[0m\n",
            "\u001b[1G\u001b[0K⠙\u001b[1G\u001b[0K⠹\u001b[1G\u001b[0K⠸\u001b[1G\u001b[0K⠼\u001b[1G\u001b[0K⠴\u001b[1G\u001b[0K⠦\u001b[1G\u001b[0K⠧\u001b[0m\n",
            "\u001b[34m\u001b[1m  You can now view your Streamlit app in your browser.\u001b[0m\n",
            "\u001b[0m\n",
            "\u001b[34m  Local URL: \u001b[0m\u001b[1mhttp://localhost:8501\u001b[0m\n",
            "\u001b[34m  Network URL: \u001b[0m\u001b[1mhttp://172.28.0.12:8501\u001b[0m\n",
            "\u001b[34m  External URL: \u001b[0m\u001b[1mhttp://34.125.38.149:8501\u001b[0m\n",
            "\u001b[0m\n",
            "\u001b[1G\u001b[0K\u001b[1G\u001b[0JNeed to install the following packages:\n",
            "wait-on@8.0.3\n",
            "Ok to proceed? (y) \u001b[20G"
          ]
        }
      ]
    }
  ]
}